{
 "cells": [
  {
   "cell_type": "markdown",
   "id": "983fc060",
   "metadata": {},
   "source": [
    "* Running Sum of 1d Array"
   ]
  },
  {
   "cell_type": "code",
   "execution_count": 3,
   "id": "f3b17eeb",
   "metadata": {},
   "outputs": [
    {
     "name": "stdout",
     "output_type": "stream",
     "text": [
      "[2, 6, 12, 20, 30, 42, 56]\n"
     ]
    }
   ],
   "source": [
    "def running(num):\n",
    "    a=len(num)\n",
    "    runsum=[num[0]]\n",
    "    for i in range(1,a):\n",
    "        num[i]+=num[i-1]\n",
    "        runsum.append(num[i])\n",
    "    return runsum\n",
    "num=[2,4,6,8,10,12,14]\n",
    "print(running(num))"
   ]
  },
  {
   "cell_type": "markdown",
   "id": "f905d6a3",
   "metadata": {},
   "source": [
    "* Shuffle the Array"
   ]
  },
  {
   "cell_type": "code",
   "execution_count": 4,
   "id": "1e3dae07",
   "metadata": {},
   "outputs": [
    {
     "name": "stdout",
     "output_type": "stream",
     "text": [
      "Previous Array:  [ 2  4  6  8 10 12]\n",
      "Shuffled Array:  [12  2 10  8  4  6]\n"
     ]
    }
   ],
   "source": [
    "import numpy as np\n",
    "Array=np.array([2,4,6,8,10,12])\n",
    "print('Previous Array: ',Array)\n",
    "np.random.shuffle(Array)\n",
    "print('Shuffled Array: ',Array)\n"
   ]
  },
  {
   "cell_type": "markdown",
   "id": "96891747",
   "metadata": {},
   "source": [
    "* Kids With the Greatest Number of Candies"
   ]
  },
  {
   "cell_type": "code",
   "execution_count": 21,
   "id": "da876462",
   "metadata": {},
   "outputs": [],
   "source": [
    "def Kidswithgreatestcandy(candy,extra):\n",
    "    a=len(candy)\n",
    "    result=[]\n",
    "    for i in range(a):\n",
    "        if candy[i]+extra>=max(candy):\n",
    "            result.append(True)\n",
    "        else:\n",
    "            result.append(False)\n",
    "    return result\n",
    "        "
   ]
  },
  {
   "cell_type": "code",
   "execution_count": null,
   "id": "4d35d570",
   "metadata": {},
   "outputs": [],
   "source": []
  }
 ],
 "metadata": {
  "kernelspec": {
   "display_name": "Python 3 (ipykernel)",
   "language": "python",
   "name": "python3"
  },
  "language_info": {
   "codemirror_mode": {
    "name": "ipython",
    "version": 3
   },
   "file_extension": ".py",
   "mimetype": "text/x-python",
   "name": "python",
   "nbconvert_exporter": "python",
   "pygments_lexer": "ipython3",
   "version": "3.9.7"
  }
 },
 "nbformat": 4,
 "nbformat_minor": 5
}
