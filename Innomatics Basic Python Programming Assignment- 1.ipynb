{
 "cells": [
  {
   "cell_type": "markdown",
   "id": "685c8ad5",
   "metadata": {},
   "source": [
    "* Say \"Hello, World!\" with python"
   ]
  },
  {
   "cell_type": "code",
   "execution_count": 1,
   "id": "68807762",
   "metadata": {},
   "outputs": [
    {
     "name": "stdout",
     "output_type": "stream",
     "text": [
      "Hello, World!\n"
     ]
    }
   ],
   "source": [
    "a=\"Hello, World!\"\n",
    "print(a)"
   ]
  },
  {
   "cell_type": "markdown",
   "id": "cdbf7a73",
   "metadata": {},
   "source": [
    "* Python If Else"
   ]
  },
  {
   "cell_type": "code",
   "execution_count": 3,
   "id": "cd9c0ebb",
   "metadata": {},
   "outputs": [
    {
     "name": "stdout",
     "output_type": "stream",
     "text": [
      "4\n",
      "Not Weird\n"
     ]
    }
   ],
   "source": [
    " n = int(input().strip())\n",
    "if n%2!= 0:\n",
    "    print('Weird')\n",
    "else:\n",
    "    if n>=2 and n<=5:\n",
    "        print('Not Weird')\n",
    "    elif n>=6 and n<=20:\n",
    "        print('Weird')\n",
    "    elif n%2==0 and n>20:\n",
    "        print('Not Weird')"
   ]
  },
  {
   "cell_type": "markdown",
   "id": "e3f94a68",
   "metadata": {},
   "source": [
    "* Arithmetic Operators"
   ]
  },
  {
   "cell_type": "code",
   "execution_count": 6,
   "id": "c5c3cd6e",
   "metadata": {},
   "outputs": [
    {
     "name": "stdout",
     "output_type": "stream",
     "text": [
      "Enter the 1st number: 10\n",
      "Enter the 2nd number: 15\n",
      "25\n",
      "-5\n",
      "150\n"
     ]
    }
   ],
   "source": [
    "a = int(input('Enter the 1st number: '))\n",
    "b = int(input('Enter the 2nd number: '))\n",
    "print(a+b)\n",
    "print(a-b)\n",
    "print(a*b)"
   ]
  },
  {
   "cell_type": "markdown",
   "id": "664feb1e",
   "metadata": {},
   "source": [
    "* Python: Divison"
   ]
  },
  {
   "cell_type": "code",
   "execution_count": 7,
   "id": "304bf56e",
   "metadata": {},
   "outputs": [
    {
     "name": "stdout",
     "output_type": "stream",
     "text": [
      "Enter the 1st number: 15\n",
      "Enter the 2nd number: 10\n",
      "1\n",
      "1.5\n"
     ]
    }
   ],
   "source": [
    "a = int(input('Enter the 1st number: '))\n",
    "b = int(input('Enter the 2nd number: '))\n",
    "print(a//b)\n",
    "print(a/b)"
   ]
  },
  {
   "cell_type": "markdown",
   "id": "1187e0f9",
   "metadata": {},
   "source": [
    "* Loops"
   ]
  },
  {
   "cell_type": "code",
   "execution_count": 9,
   "id": "6f9fc929",
   "metadata": {},
   "outputs": [
    {
     "name": "stdout",
     "output_type": "stream",
     "text": [
      "Enter the number: 15\n",
      "0\n",
      "1\n",
      "4\n",
      "9\n",
      "16\n",
      "25\n",
      "36\n",
      "49\n",
      "64\n",
      "81\n",
      "100\n",
      "121\n",
      "144\n",
      "169\n",
      "196\n"
     ]
    }
   ],
   "source": [
    "n = int(input('Enter the number: '))\n",
    "for i in range(n):\n",
    "    print(i**2)"
   ]
  },
  {
   "cell_type": "markdown",
   "id": "014e6df1",
   "metadata": {},
   "source": [
    "* Given a year, determine whether it is a leap year. If it is a leap year, return the Boolean True, otherwise return False.\n",
    "\n",
    "Note that the code stub provided reads from STDIN and passes arguments to the is_leap function. It is only necessary to complete the is_leap function."
   ]
  },
  {
   "cell_type": "code",
   "execution_count": 12,
   "id": "8b433fd1",
   "metadata": {},
   "outputs": [
    {
     "name": "stdout",
     "output_type": "stream",
     "text": [
      "Enter the Year: 2004\n",
      "True\n",
      "False\n"
     ]
    }
   ],
   "source": [
    "def is_leap(year):\n",
    "    leap=False\n",
    "    if year%400==0:\n",
    "        print('True')\n",
    "    elif year%100==0:\n",
    "        print('False')\n",
    "    elif year%4==0:\n",
    "        print('True')\n",
    "    return leap\n",
    "\n",
    "year = int(input('Enter the Year: '))\n",
    "print(is_leap(year))"
   ]
  },
  {
   "cell_type": "markdown",
   "id": "9e844ab9",
   "metadata": {},
   "source": [
    "* Without using any string methods, try to print the following:\n",
    "\n",
    "Note that \"\" represents the consecutive values in between."
   ]
  },
  {
   "cell_type": "code",
   "execution_count": 17,
   "id": "bfa65893",
   "metadata": {},
   "outputs": [
    {
     "name": "stdout",
     "output_type": "stream",
     "text": [
      "Enter the number: 10\n",
      "12345678910"
     ]
    }
   ],
   "source": [
    "n = int(input('Enter the number: '))\n",
    "for i in range(1,n+1):\n",
    "    print(i, end=\"\")"
   ]
  }
 ],
 "metadata": {
  "kernelspec": {
   "display_name": "Python 3 (ipykernel)",
   "language": "python",
   "name": "python3"
  },
  "language_info": {
   "codemirror_mode": {
    "name": "ipython",
    "version": 3
   },
   "file_extension": ".py",
   "mimetype": "text/x-python",
   "name": "python",
   "nbconvert_exporter": "python",
   "pygments_lexer": "ipython3",
   "version": "3.9.7"
  }
 },
 "nbformat": 4,
 "nbformat_minor": 5
}
